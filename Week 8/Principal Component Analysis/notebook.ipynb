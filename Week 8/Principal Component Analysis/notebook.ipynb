{
 "cells": [
  {
   "cell_type": "markdown",
   "metadata": {
    "pycharm": {
     "name": "#%% md\n"
    }
   },
   "source": [
    "# Dimensionality Reduction\n",
    "\n",
    "## PCA\n",
    "\n",
    "### problem formulation\n",
    "\n",
    "see [Lecture14](../../doc/Lecture14.pdf)\n",
    "\n",
    "###  PCA algorithm\n",
    "\n",
    "step:\n",
    "1.  preprocessing(feature scaling / mean normalization)\n",
    "2.  compute \"covariance matrix\"\n",
    "\n",
    "    $ \\Sigma = \\frac{1}{m} \\sum_{i=1}^n(x^{(i)})(x^{(i)})^T $\n",
    "\n",
    "3.  compute \"eigenvectors\" of matrix $\\Sigma$\n",
    "\n",
    "    ```Octave\n",
    "    [U,S,V] = svd(Sigma) #svd mean Sigular value decomposition\n",
    "    Ureduce = U(:,1:k)\n",
    "    z = Ureduce' * x\n",
    "    ```\n"
   ]
  }
 ],
 "metadata": {
  "kernelspec": {
   "display_name": "Python 3",
   "language": "python",
   "name": "python3"
  },
  "language_info": {
   "codemirror_mode": {
    "name": "ipython",
    "version": 3
   },
   "file_extension": ".py",
   "mimetype": "text/x-python",
   "name": "python",
   "nbconvert_exporter": "python",
   "pygments_lexer": "ipython3",
   "version": "3.7.3"
  },
  "pycharm": {
   "stem_cell": {
    "cell_type": "raw",
    "metadata": {
     "collapsed": false
    },
    "source": []
   }
  }
 },
 "nbformat": 4,
 "nbformat_minor": 2
}
