{
 "cells": [
  {
   "cell_type": "markdown",
   "metadata": {
    "collapsed": true,
    "pycharm": {
     "name": "#%% md\n"
    }
   },
   "source": [
    "# Clustering\n",
    "\n",
    "one of unsupervised learning\n",
    "\n",
    "## K-means algorithm\n",
    "\n",
    "one of clustering algorithm\n",
    "\n",
    "### Input:\n",
    "- K(number of clusters)\n",
    "- Training set\n",
    "\n",
    "### steps:\n",
    "\n",
    "1. randomly initialize K cluster centroids $\\mu_1,\\mu_2,...,\\mu_K \\in \\Bbb R^n$\n",
    "2. repeat two steps\n",
    "    - $c^{(i)}$ := index (from 1 to K) of cluster centroid closest to $x^{(i)}$\n",
    "    - $\\mu_k$ := average (mean) of points assigned to cluster k\n",
    "\n",
    "### optimization objective\n",
    "\n",
    "$J(c^{(1)},...,c^{(m)},\\mu_1,...,\\mu_K) = \\frac{1}{m}\\sum_{i=1}^{m}\\|x^{(i)}-\\mu_{c^{(i)}}\\|^2$\n",
    "\n",
    "__target:__ $\\min_{c^{(1)},...,c^{(m)},\\mu_1,...,\\mu_K} J(c^{(1)},...,c^{(m)},\\mu_1,...,\\mu_K)$\n",
    "\n",
    "repeat two steps means minimize J by two steps\n",
    "1. minimize J with $c^{(1)},...,c^{(m)}$ (holding $\\mu_1,...,\\mu_K$ fixed)\n",
    "2. minimize J with $\\mu_1,...,\\mu_K$ (holding $c^{(1)},...,c^{(m)}$ fixed)\n",
    "\n",
    "### Random Initialization \n",
    "__choose__:\n",
    "\n",
    "Randomly pick K training examples.\n",
    "\n",
    "set $\\mu_1,...,\\mu_K$ equal to these K examples\n",
    "\n",
    "__repeat__:\n",
    "\n",
    "when K = 2 to 10\n",
    "\n",
    "    For i=1 to 100 {\n",
    "        Randomly initialize K-means;\n",
    "        Run K-means ;\n",
    "        compute cost function accordingly.\n",
    "    }\n",
    "\n",
    "\n",
    "pick clustering that gave lowest cost J\n",
    "\n",
    "### choosing the number fo clusters\n",
    "\n",
    "if the plot with K(no. of clusters) and J(cost function) have a evidently elbow point,then use __Elbow Method__ is a good choice.\n",
    "\n",
    "but if not\n",
    "\n",
    "you should evaluate K-means based on a metric for how well it performs for that later purpose.\n"
   ]
  }
 ],
 "metadata": {
  "language_info": {
   "codemirror_mode": {
    "name": "ipython",
    "version": 2
   },
   "file_extension": ".py",
   "mimetype": "text/x-python",
   "name": "python",
   "nbconvert_exporter": "python",
   "pygments_lexer": "ipython2",
   "version": "2.7.6"
  },
  "kernelspec": {
   "name": "python3",
   "language": "python",
   "display_name": "Python 3"
  },
  "pycharm": {
   "stem_cell": {
    "cell_type": "raw",
    "source": [],
    "metadata": {
     "collapsed": false
    }
   }
  }
 },
 "nbformat": 4,
 "nbformat_minor": 0
}