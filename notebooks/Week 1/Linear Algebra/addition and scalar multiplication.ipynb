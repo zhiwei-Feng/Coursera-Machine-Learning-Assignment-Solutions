{
 "cells": [
  {
   "cell_type": "code",
   "execution_count": 5,
   "metadata": {
    "collapsed": true,
    "pycharm": {
     "is_executing": false
    }
   },
   "outputs": [
    {
     "name": "stdout",
     "text": [
      "A:\n [[1 2 4]\n [5 3 2]]\nB:\n [[1 3 4]\n [1 1 1]]\n"
     ],
     "output_type": "stream"
    }
   ],
   "source": [
    "import numpy as np\n",
    "# initialize matrix A and B\n",
    "A = np.array([(1,2,4),(5,3,2)])\n",
    "B = np.array([(1,3,4),(1,1,1)])\n",
    "print('A:\\n',A)\n",
    "print('B:\\n',B)"
   ]
  },
  {
   "cell_type": "code",
   "execution_count": 7,
   "outputs": [
    {
     "name": "stdout",
     "text": [
      "[[2 5 8]\n [6 4 3]]\n"
     ],
     "output_type": "stream"
    }
   ],
   "source": [
    "# initialize constant s\n",
    "s = 2\n",
    "\n",
    "# see how element-wise addition works\n",
    "add_AB = A+B\n",
    "print(add_AB)"
   ],
   "metadata": {
    "collapsed": false,
    "pycharm": {
     "name": "#%%\n",
     "is_executing": false
    }
   }
  },
  {
   "cell_type": "code",
   "execution_count": 9,
   "outputs": [
    {
     "name": "stdout",
     "text": [
      "[[ 0 -1  0]\n [ 4  2  1]]\n"
     ],
     "output_type": "stream"
    }
   ],
   "source": [
    "# see how element-wise subtraction works\n",
    "sub_AB = A-B\n",
    "print(sub_AB)"
   ],
   "metadata": {
    "collapsed": false,
    "pycharm": {
     "name": "#%%\n",
     "is_executing": false
    }
   }
  },
  {
   "cell_type": "code",
   "execution_count": 11,
   "outputs": [
    {
     "name": "stdout",
     "text": [
      "[[ 2  4  8]\n [10  6  4]]\n"
     ],
     "output_type": "stream"
    }
   ],
   "source": [
    "# see how element-wise multiplication works\n",
    "mult_As = A*s\n",
    "print(mult_As)"
   ],
   "metadata": {
    "collapsed": false,
    "pycharm": {
     "name": "#%%\n",
     "is_executing": false
    }
   }
  },
  {
   "cell_type": "code",
   "execution_count": 13,
   "outputs": [
    {
     "name": "stdout",
     "text": [
      "[[0.5 1.  2. ]\n [2.5 1.5 1. ]]\n"
     ],
     "output_type": "stream"
    }
   ],
   "source": [
    "# divide A by s\n",
    "div_As = A/s\n",
    "print(div_As)"
   ],
   "metadata": {
    "collapsed": false,
    "pycharm": {
     "name": "#%%\n",
     "is_executing": false
    }
   }
  },
  {
   "cell_type": "code",
   "execution_count": 14,
   "outputs": [
    {
     "name": "stdout",
     "text": [
      "[[3 4 6]\n [7 5 4]]\n"
     ],
     "output_type": "stream"
    }
   ],
   "source": [
    "# what happens if we have a matrix + scalar\n",
    "add_As = A+s\n",
    "print(add_As) # each element will add scalar\n"
   ],
   "metadata": {
    "collapsed": false,
    "pycharm": {
     "name": "#%%\n",
     "is_executing": false
    }
   }
  }
 ],
 "metadata": {
  "language_info": {
   "codemirror_mode": {
    "name": "ipython",
    "version": 2
   },
   "file_extension": ".py",
   "mimetype": "text/x-python",
   "name": "python",
   "nbconvert_exporter": "python",
   "pygments_lexer": "ipython2",
   "version": "2.7.6"
  },
  "kernelspec": {
   "name": "python3",
   "language": "python",
   "display_name": "Python 3"
  },
  "pycharm": {
   "stem_cell": {
    "cell_type": "raw",
    "source": [],
    "metadata": {
     "collapsed": false
    }
   }
  }
 },
 "nbformat": 4,
 "nbformat_minor": 0
}