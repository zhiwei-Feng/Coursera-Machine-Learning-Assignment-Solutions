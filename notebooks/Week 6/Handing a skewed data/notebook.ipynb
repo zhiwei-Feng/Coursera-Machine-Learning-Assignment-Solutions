{
 "cells": [
  {
   "cell_type": "markdown",
   "metadata": {
    "pycharm": {
     "name": "#%% md\n"
    }
   },
   "source": [
    "### Error Metrics for Skewed Classes\n",
    "- Precision\n",
    "- Recall\n",
    "\n",
    "\\begin{equation}\n",
    "\\begin{array}{l}{\\text { Precision }=\\frac{\\text { True positives }}{\\# \\text { predicted as positive }}=\\frac{\\text { True positives }}{\\text { True positives }+\\text { False positives }}} \\\\ {\\text { Recall }=\\frac{\\text { True positives }}{\\# \\text { actual positives }}=\\frac{\\text { True positives }}{\\text { True positives }+\\text { False negatives }}}\\end{array}\n",
    "\\end{equation}\n",
    "\n",
    "> we always set y=1 in presence of rare class that we wanna detect\n",
    "\n",
    "### Trading off precision and recall\n",
    "\n",
    "$F_1 Score: \\; 2\\frac{PR}{P+R}$\n",
    "\n",
    "when P and R are high, $F_1 Score$ will high"
   ]
  },
  {
   "cell_type": "markdown",
   "metadata": {},
   "source": [
    "\n"
   ]
  }
 ],
 "metadata": {
  "kernelspec": {
   "display_name": "Python 3",
   "language": "python",
   "name": "python3"
  },
  "language_info": {
   "codemirror_mode": {
    "name": "ipython",
    "version": 3
   },
   "file_extension": ".py",
   "mimetype": "text/x-python",
   "name": "python",
   "nbconvert_exporter": "python",
   "pygments_lexer": "ipython3",
   "version": "3.7.3"
  },
  "pycharm": {
   "stem_cell": {
    "cell_type": "raw",
    "metadata": {
     "collapsed": false
    },
    "source": []
   }
  }
 },
 "nbformat": 4,
 "nbformat_minor": 2
}
