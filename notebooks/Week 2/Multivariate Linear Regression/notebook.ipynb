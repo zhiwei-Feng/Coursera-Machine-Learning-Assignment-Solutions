{
 "cells": [
  {
   "cell_type": "markdown",
   "metadata": {},
   "source": [
    "### multiple features\n",
    "hypothesis function can expr\n",
    "\n",
    "$$ h(\\theta) = \\theta^TX $$\n",
    "\n",
    "1. $\\theta$ is a n+1 dim vector\n",
    "2. $X$ is a n+1 dim vector"
   ]
  },
  {
   "cell_type": "markdown",
   "metadata": {},
   "source": [
    "### gradient descent for multiple variables\n",
    "repeat until convergence:\n",
    "\\begin{equation}\n",
    "\\{ \\\\ \\theta_{j} :=\\theta_{j}-\\alpha \\frac{1}{m} \\sum_{i=1}^{n}\\left(h_{\\theta}\\left(x^{(i)}\\right)-y^{(i)}\\right) \\cdot x_{j}^{(i)} \\text { for j :=0..n }  \\\\ \\}\n",
    "\\end{equation}"
   ]
  },
  {
   "cell_type": "markdown",
   "metadata": {},
   "source": [
    "### feature scaling\n",
    "$$ x^i \\; := \\; \\frac{x_i-\\mu_i}{s_i} \\\\ $$\n",
    "1. $\\mu_i$ is average of all the values for feature (i)\n",
    "2. $s_i$ is the range of values(max-min) or the standard deviation\n",
    "3. If you use feature scaling in training data,you should also use it in predict data before prediction"
   ]
  },
  {
   "cell_type": "markdown",
   "metadata": {},
   "source": [
    "\n"
   ]
  }
 ],
 "metadata": {
  "kernelspec": {
   "display_name": "Python 3",
   "language": "python",
   "name": "python3"
  },
  "language_info": {
   "codemirror_mode": {
    "name": "ipython",
    "version": 3
   },
   "file_extension": ".py",
   "mimetype": "text/x-python",
   "name": "python",
   "nbconvert_exporter": "python",
   "pygments_lexer": "ipython3",
   "version": "3.7.3"
  },
  "pycharm": {
   "stem_cell": {
    "cell_type": "raw",
    "metadata": {
     "collapsed": false
    },
    "source": []
   }
  }
 },
 "nbformat": 4,
 "nbformat_minor": 2
}
