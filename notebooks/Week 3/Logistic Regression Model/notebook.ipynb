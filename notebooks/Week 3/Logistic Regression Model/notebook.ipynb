{
 "cells": [
  {
   "cell_type": "markdown",
   "metadata": {
    "collapsed": true,
    "pycharm": {
     "name": "#%% md\n"
    }
   },
   "source": [
    "__Cost Function__\n",
    "\n",
    "looks like:\n",
    "\n",
    "\\begin{array}{ll}{J(\\theta)=} & {\\frac{1}{m} \\sum_{i=1}^{m} \\operatorname{cost}\\left(h_{\\theta}\\left(x^{(i)}\\right), y^{(i)}\\right)} \\\\ {\\operatorname{cost}\\left(h_{\\theta}(x), y\\right)} & {=-\\log \\left(h_{\\theta}(x)\\right)} & {\\text { if } y=1} \\\\ {\\operatorname{cost}\\left(h_{\\theta}(x), y\\right)} & {=-\\log \\left(1-h_{\\theta}(x)\\right)} & {\\text { if } y=0}\\end{array}"
   ]
  },
  {
   "cell_type": "markdown",
   "source": [
    "__Logistic Regression cost function 偏导数求导过程__\n",
    "\n",
    "- cost function 如下\n",
    "\n",
    "\\begin{equation}\n",
    "J(\\theta)=-\\frac{1}{m}\\left[\\sum_{i=1}^{m} y^{(i)} \\log \\left(h_{\\theta}\\left(x^{(i)}\\right)\\right)+\\left(1-y^{(i)}\\right) \\log \\left(1-h_{\\theta}\\left(x^{(i)}\\right)\\right)\\right]\n",
    "\\end{equation}\n",
    "\n",
    "其中:\n",
    "\n",
    "\\begin{equation}\n",
    "h_{\\theta}\\left(x^{(i)}\\right)=\\frac{1}{1+e^{-\\theta^{T} x}}\n",
    "\\end{equation}\n",
    "\n",
    "- 求导1\n",
    "\n",
    "\\begin{equation}\n",
    "J(\\theta)^{\\prime}=-\\frac{1}{m} \\sum_{i=1}^{m} K(\\theta)^{\\prime}\n",
    "\\end{equation}\n",
    "\n",
    "\\begin{equation}\n",
    "K(\\theta)^{\\prime}=\\mathrm{y} \\cdot \\frac{1}{h_{\\theta} (x)} h_{\\theta}(x)^{\\prime}+(1-y) \\frac{1}{1-h_{\\theta} (x)}\\left(1-h_{\\theta}(x)\\right)^{\\prime}\n",
    "\\end{equation}\n",
    "\n",
    "- 求导2\n",
    "\n",
    "\\begin{equation}\n",
    "h_\\theta(x)' = (\\frac{1}{1+e^{-\\theta^TX}})' = \\frac{e^{-\\theta^TX}}{(1+e^{-\\theta^TX})^2}(\\theta^TX)'\n",
    "\\end{equation}\n",
    "\n",
    "分解为:\n",
    "\n",
    "\\begin{equation}\n",
    "\\frac{1}{1+e^{-\\theta^{T} X}} *\\left(1-\\frac{1}{1+e^{-\\theta^{T} X}}\\right) *\\left(\\theta^{T} X\\right)\n",
    "\\end{equation}\n",
    "\n",
    "即\n",
    "\\begin{equation}\n",
    "h_\\theta(x)*(1-h_\\theta(x))*(\\theta^TX)'\n",
    "\\end{equation}\n",
    "\n",
    "- 求导3\n",
    "将上式带回\n",
    "\n",
    "\\begin{equation}\n",
    "K(\\theta)' = y \\cdot (1-h_\\theta(x))*(\\theta^TX)' + (1-y) \\cdot (-h_\\theta(x))*(\\theta^TX)' \\\\\n",
    "= (y-h_\\theta(x))*(\\theta^TX)'\n",
    "\\end{equation}\n",
    "\n",
    "- 求导4\n",
    "因为\n",
    "\n",
    "\\begin{equation}\n",
    "\\frac{\\partial \\theta^TX}{\\partial \\theta_{j}}=x_{j}^{(i)}\n",
    "\\end{equation}\n",
    "\n",
    "所以最终推导结果:\n",
    "\n",
    "\\begin{equation}\n",
    "\\frac{\\partial J(\\theta)}{\\partial \\theta_{j}}=\\frac{1}{\\mathrm{m}}\\left[\\sum_{i=1}^{m}\\left(h_{\\theta}\\left(x^{(i)}\\right)-y^{(i)}\\right) x_{j}^{(i)}\\right]\n",
    "\\end{equation}\n",
    "\n",
    "\n"
   ],
   "metadata": {
    "collapsed": false
   }
  },
  {
   "cell_type": "markdown",
   "source": [
    "__Advanced Optimization__\n"
   ],
   "metadata": {
    "collapsed": false
   }
  },
  {
   "cell_type": "code",
   "execution_count": 13,
   "outputs": [
    {
     "name": "stdout",
     "text": [
      "[5. 5.]\n"
     ],
     "output_type": "stream"
    }
   ],
   "source": [
    "import numpy as np\n",
    "import scipy.optimize as op\n",
    "\n",
    "def gradient(theta):\n",
    "    grad = 2*(theta-5)#[compute derivate of J(theta)]\n",
    "    return grad\n",
    "\n",
    "def cost_function(theta):\n",
    "    jVal = np.sum((theta-5)**2)#[compute J(theta)]\n",
    "    return jVal\n",
    "\n",
    "initial_theta = np.zeros(2)\n",
    "\n",
    "res = op.minimize(fun=cost_function,x0=initial_theta,method='Newton-CG',jac=gradient)\n",
    "print(res.x)"
   ],
   "metadata": {
    "collapsed": false,
    "pycharm": {
     "name": "#%%\n",
     "is_executing": false
    }
   }
  }
 ],
 "metadata": {
  "language_info": {
   "codemirror_mode": {
    "name": "ipython",
    "version": 2
   },
   "file_extension": ".py",
   "mimetype": "text/x-python",
   "name": "python",
   "nbconvert_exporter": "python",
   "pygments_lexer": "ipython2",
   "version": "2.7.6"
  },
  "kernelspec": {
   "name": "python3",
   "language": "python",
   "display_name": "Python 3"
  },
  "pycharm": {
   "stem_cell": {
    "cell_type": "raw",
    "source": [],
    "metadata": {
     "collapsed": false
    }
   }
  }
 },
 "nbformat": 4,
 "nbformat_minor": 0
}