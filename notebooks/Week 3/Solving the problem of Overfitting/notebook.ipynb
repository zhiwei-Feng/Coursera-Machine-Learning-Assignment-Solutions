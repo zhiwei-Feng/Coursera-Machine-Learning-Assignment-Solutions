{
 "cells": [
  {
   "cell_type": "markdown",
   "metadata": {
    "pycharm": {
     "name": "#%% md\n"
    }
   },
   "source": [
    "__Two main options to address the issue of overfitting__\n",
    "\n",
    "- Reduce the number of features\n",
    "    - Manually select which features to keep\n",
    "    - Use a model selection algorithm\n",
    "- Regularization\n",
    "    - Keep all the features, but reduce the magnitude of parameters $\\theta_j$\n",
    "    - Regularization works well when we have a lot of slightly useful features."
   ]
  },
  {
   "cell_type": "markdown",
   "metadata": {},
   "source": [
    "__Cost Function__\n",
    "\n",
    "regularization like:\n",
    "\n",
    "\\begin{equation}\n",
    "\\min _{\\theta} \\frac{1}{2 m} \\sum_{i=1}^{m}\\left(h_{\\theta}\\left(x^{(i)}\\right)-y^{(i)}\\right)^{2}+\\frac{\\lambda}{2m} \\sum_{j=1}^{n} \\theta_{j}^{2}\n",
    "\\end{equation}\n",
    "\n",
    "first term is old $J(\\theta)$\n",
    "\n",
    "second term is regularization term\n",
    "\n",
    "and the $\\lambda$ is the regularization parameter.It determines how much the costs of our theta parameters are inflated "
   ]
  },
  {
   "cell_type": "markdown",
   "metadata": {},
   "source": [
    "__Regularized Linear Regression__\n",
    "\n",
    "- gradient descent\n",
    "\n",
    "\\begin{equation}\n",
    "\\begin{array}{l}{\\text { Repeat }\\{ } \\\\ {\\qquad \\begin{aligned} \\theta_{0} & :=\\theta_{0}-\\alpha \\frac{1}{m} \\sum_{i=1}^{m}\\left(h_{\\theta}\\left(x^{(i)}\\right)-y^{(i)}\\right) x_{0}^{(i)} \\\\ \\theta_{j} & :=\\theta_{j}-\\alpha\\left[\\left(\\frac{1}{m} \\sum_{i=1}^{m}\\left(h_{\\theta}\\left(x^{(i)}\\right)-y^{(i)}\\right) x_{j}^{(i)}\\right)+\\frac{\\lambda}{m} \\theta_{j}\\right] \\end{aligned}}\\end{array}\n",
    "\\end{equation}\n",
    "$$ j \\in \\{1,2,..,n\\} \\\\ \\}$$\n",
    "\n",
    "- normal equation\n",
    "\n",
    "\\begin{equation}\n",
    "\\theta=\\left(X^{T} X+\\lambda \\cdot L\\right)^{-1} X^{T} y\n",
    "\\end{equation}\n",
    "\n",
    "\\begin{equation}\n",
    "where \\; L = \\begin{bmatrix}\n",
    "0 &   &   &   &   \\\\\n",
    "  & 1 &   &   &   \\\\\n",
    "  &   & 1 &   &   \\\\\n",
    "  &   &   & \\ddots &   \\\\\n",
    "  &   &   &   & 1 \n",
    "\\end{bmatrix}\n",
    "\\end{equation}\n",
    "\n",
    "_keynote_:\n",
    "Recall that if m < n, then $X^TX$ is non-invertible. However, when we add the term λ⋅L, \n",
    "then $X^TX+\\lambda \\cdot L$ becomes invertible."
   ]
  },
  {
   "cell_type": "markdown",
   "metadata": {},
   "source": [
    "__Regularized Logistic Regression__\n",
    "\n",
    "- cost function\n",
    "\n",
    "\\begin{equation}\n",
    "J(\\theta)=-\\frac{1}{m} \\sum_{i=1}^{m}\\left[y^{(i)} \\log \\left(h_{\\theta}\\left(x^{(i)}\\right)\\right)+\\left(1-y^{(i)}\\right) \\log \\left(1-h_{\\theta}\\left(x^{(i)}\\right)\\right)\\right]+\\frac{\\lambda}{2 m} \\sum_{j=1}^{n} \\theta_{j}^{2}\n",
    "\\end{equation}\n",
    "\n",
    "- gradient descent\n",
    "\n",
    "\\begin{equation}\n",
    "\\begin{array}{l}{\\text { Repeat }\\{ } \\\\ {\\qquad \\begin{aligned} \\theta_{0} & :=\\theta_{0}-\\alpha \\frac{1}{m} \\sum_{i=1}^{m}\\left(h_{\\theta}\\left(x^{(i)}\\right)-y^{(i)}\\right) x_{0}^{(i)} \\\\ \\theta_{j} & :=\\theta_{j}-\\alpha\\left[\\left(\\frac{1}{m} \\sum_{i=1}^{m}\\left(h_{\\theta}\\left(x^{(i)}\\right)-y^{(i)}\\right) x_{j}^{(i)}\\right)+\\frac{\\lambda}{m} \\theta_{j}\\right] \\end{aligned}}\\end{array}\n",
    "\\end{equation}\n",
    "$$ j \\in \\{1,2,..,n\\} \\\\ \\}$$ \n"
   ]
  }
 ],
 "metadata": {
  "kernelspec": {
   "display_name": "Python 3",
   "language": "python",
   "name": "python3"
  },
  "language_info": {
   "codemirror_mode": {
    "name": "ipython",
    "version": 3
   },
   "file_extension": ".py",
   "mimetype": "text/x-python",
   "name": "python",
   "nbconvert_exporter": "python",
   "pygments_lexer": "ipython3",
   "version": "3.7.3"
  },
  "pycharm": {
   "stem_cell": {
    "cell_type": "raw",
    "metadata": {
     "collapsed": false
    },
    "source": []
   }
  }
 },
 "nbformat": 4,
 "nbformat_minor": 2
}
