{
 "cells": [
  {
   "cell_type": "markdown",
   "metadata": {
    "pycharm": {
     "name": "#%% md\n"
    }
   },
   "source": [
    "The hypothesis function of Logistic Regression\n",
    "\n",
    "\\begin{array}{l}{h_{\\theta}(x)=g\\left(\\theta^{T} x\\right)} \\\\ {z=\\theta^{T} x} \\\\ {g(z)=\\frac{1}{1+e^{-z}}}\\end{array}\n"
   ]
  },
  {
   "cell_type": "markdown",
   "metadata": {},
   "source": [
    "$h_\\theta(x)$ will give us the probability that our output is 1.\n",
    "\n",
    "For example , $h_\\theta(x)$=0.7\n",
    "gives us a probability of 70% that our output is 1\n"
   ]
  },
  {
   "cell_type": "markdown",
   "metadata": {
    "pycharm": {
     "name": "#%% md\n"
    }
   },
   "source": [
    "__Decision Boundary__\n",
    "\n",
    "we can translate the output of the hypothesis function as follows\n",
    "\n",
    "\\begin{array}{l}{h_{\\theta}(x) \\geq 0.5 \\rightarrow y=1} \\\\ {h_{\\theta}(x)<0.5 \\rightarrow y=0}\\end{array}\n",
    "\n",
    "also mean that:\n",
    "\n",
    "\\begin{array}{l}{g(z) \\geq 0.5} \\\\ {\\text {when } z \\geq 0}\\end{array}\n",
    "\n",
    "So if our input to g is $\\theta^TX$, then that means:\n",
    "\n",
    "\\begin{array}{l}{\\theta^{T} x \\geq 0 \\Rightarrow y=1} \\\\ {\\theta^{T} x<0 \\Rightarrow y=0}\\end{array}\n",
    "\n",
    "\n"
   ]
  }
 ],
 "metadata": {
  "kernelspec": {
   "display_name": "Python 3",
   "language": "python",
   "name": "python3"
  },
  "language_info": {
   "codemirror_mode": {
    "name": "ipython",
    "version": 3
   },
   "file_extension": ".py",
   "mimetype": "text/x-python",
   "name": "python",
   "nbconvert_exporter": "python",
   "pygments_lexer": "ipython3",
   "version": "3.7.3"
  },
  "pycharm": {
   "stem_cell": {
    "cell_type": "raw",
    "metadata": {
     "collapsed": false
    },
    "source": []
   }
  }
 },
 "nbformat": 4,
 "nbformat_minor": 2
}
