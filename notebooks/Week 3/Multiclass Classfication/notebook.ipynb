{
 "cells": [
  {
   "cell_type": "markdown",
   "metadata": {
    "pycharm": {
     "name": "#%% md\n"
    }
   },
   "source": [
    "__multiclass classfication__\n",
    "\n",
    "one vs all(one vs rest)\n",
    "\n",
    "\\begin{equation}\n",
    "\\begin{array}{l}{y \\in\\{0,1 \\ldots n\\}} \\\\ {h_{\\theta}^{(0)}(x)=P(y=0 | x ; \\theta)} \\\\ {h_{\\theta}^{(1)}(x)=P(y=1 | x ; \\theta)} \\\\ {\\stackrel{\\cdots}{h_{\\theta}^{(n)}}(x)=P(y=n | x ; \\theta)} \\\\ {\\text { prediction }=\\max _{i}\\left(h_{\\theta}^{(i)}(x)\\right)}\\end{array}\n",
    "\\end{equation}\n"
   ]
  }
 ],
 "metadata": {
  "kernelspec": {
   "display_name": "Python 3",
   "language": "python",
   "name": "python3"
  },
  "language_info": {
   "codemirror_mode": {
    "name": "ipython",
    "version": 3
   },
   "file_extension": ".py",
   "mimetype": "text/x-python",
   "name": "python",
   "nbconvert_exporter": "python",
   "pygments_lexer": "ipython3",
   "version": "3.7.3"
  },
  "pycharm": {
   "stem_cell": {
    "cell_type": "raw",
    "metadata": {
     "collapsed": false
    },
    "source": []
   }
  }
 },
 "nbformat": 4,
 "nbformat_minor": 2
}
