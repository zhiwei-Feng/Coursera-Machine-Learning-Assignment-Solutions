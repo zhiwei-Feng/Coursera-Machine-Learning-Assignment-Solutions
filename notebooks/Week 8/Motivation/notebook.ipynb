{
 "cells": [
  {
   "cell_type": "markdown",
   "metadata": {
    "pycharm": {
     "name": "#%% md\n"
    }
   },
   "source": [
    "# Dimensionality Reduction\n",
    "\n",
    "## Motivation\n",
    "\n",
    "### Data Compression\n",
    "\n",
    "- reduce data from 2D to 1D\n",
    "- reduce data from 3D to 2D\n",
    "\n",
    "### Data visualization\n",
    "\n",
    "by the data compression,wo can get new 2D or 3D dataset, so we can plot the data.\n",
    "\n"
   ]
  }
 ],
 "metadata": {
  "kernelspec": {
   "display_name": "Python 3",
   "language": "python",
   "name": "python3"
  },
  "language_info": {
   "codemirror_mode": {
    "name": "ipython",
    "version": 3
   },
   "file_extension": ".py",
   "mimetype": "text/x-python",
   "name": "python",
   "nbconvert_exporter": "python",
   "pygments_lexer": "ipython3",
   "version": "3.7.3"
  },
  "pycharm": {
   "stem_cell": {
    "cell_type": "raw",
    "metadata": {
     "collapsed": false
    },
    "source": []
   }
  }
 },
 "nbformat": 4,
 "nbformat_minor": 2
}
