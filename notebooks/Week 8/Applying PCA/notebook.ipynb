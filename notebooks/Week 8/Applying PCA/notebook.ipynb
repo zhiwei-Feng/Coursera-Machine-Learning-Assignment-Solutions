{
 "cells": [
  {
   "cell_type": "markdown",
   "metadata": {
    "pycharm": {
     "name": "#%% md\n"
    }
   },
   "source": [
    "# Applying PCA\n",
    "\n",
    "## Reconstruction from compressed representation\n",
    "\n",
    "$z = U_{reduce}^Tx$\n",
    "\n",
    "$x_{approx} = U_{reduce}z$\n",
    "\n",
    "## Choosing the number of principal components\n",
    "\n",
    "choose $k$ to be smallest value so that:\n",
    "\n",
    "$\\frac{\\frac{1}{m} \\sum_{i=1}^{m}\\left\\|x^{(i)}-x_{a p p r o x}^{(i)}\\right\\|^{2}}{\\frac{1}{m} \\sum_{i=1}^{m}\\left\\|x^{(i)}\\right\\|^{2}} \\leq 0.01$\n",
    "\n",
    "\"99% of variance is retained\"\n",
    "\n",
    "if we use svd function :\n",
    "\n",
    "`[U,S,V] = svd(Sigma)`\n",
    "\n",
    "Pick smallest value of $k$ for which\n",
    "\n",
    "$\\frac{\\sum_{i=1}^{k} S_{i i}}{\\sum_{i=1}^{m} S_{i i}} \\geq 0.99$\n",
    "\n",
    "(99% of variance retained)\n",
    "\n",
    "## Advice for applying PCA\n",
    "\n",
    "__good use__\n",
    " \n",
    "1.  supervised learning speedup\n",
    "2.  data compression\n",
    "3.  visualization\n",
    "\n",
    "__bad use__\n",
    "\n",
    "1.  to prevent overfitting\n",
    "2.  Use PCA without thinking when designing a machine learning system\n"
   ]
  }
 ],
 "metadata": {
  "kernelspec": {
   "display_name": "Python 3",
   "language": "python",
   "name": "python3"
  },
  "language_info": {
   "codemirror_mode": {
    "name": "ipython",
    "version": 3
   },
   "file_extension": ".py",
   "mimetype": "text/x-python",
   "name": "python",
   "nbconvert_exporter": "python",
   "pygments_lexer": "ipython3",
   "version": "3.7.3"
  },
  "pycharm": {
   "stem_cell": {
    "cell_type": "raw",
    "metadata": {
     "collapsed": false
    },
    "source": []
   }
  }
 },
 "nbformat": 4,
 "nbformat_minor": 2
}
