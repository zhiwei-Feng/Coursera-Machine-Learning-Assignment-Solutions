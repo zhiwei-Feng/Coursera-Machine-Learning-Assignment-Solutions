{
 "cells": [
  {
   "cell_type": "markdown",
   "metadata": {},
   "source": [
    "## Density Estimation\n",
    "\n",
    "Training set: ${x^{(i)},...,x^{(m)}}$\n",
    "\n",
    "Each example is $x \\in \\Bbb R^n$"
   ]
  },
  {
   "cell_type": "markdown",
   "metadata": {},
   "source": [
    "We have that:\n",
    "\n",
    "$x_1 \\sim \\mathcal N(\\mu_1,\\sigma_1^2)$\n",
    "$x_2 \\sim \\mathcal N(\\mu_2,\\sigma_2^2)$\n",
    "$x_3 \\sim \\mathcal N(\\mu_3,\\sigma_3^2)$\n",
    "$...$\n",
    "\n",
    "then:\n",
    "\n",
    "$P(x) = \\prod_{j=1}^{n} P(x_j;\\mu_j;\\sigma_j^2)$"
   ]
  },
  {
   "cell_type": "code",
   "execution_count": null,
   "metadata": {},
   "outputs": [],
   "source": []
  }
 ],
 "metadata": {
  "kernelspec": {
   "display_name": "Python 3",
   "language": "python",
   "name": "python3"
  },
  "language_info": {
   "codemirror_mode": {
    "name": "ipython",
    "version": 3
   },
   "file_extension": ".py",
   "mimetype": "text/x-python",
   "name": "python",
   "nbconvert_exporter": "python",
   "pygments_lexer": "ipython3",
   "version": "3.7.3"
  }
 },
 "nbformat": 4,
 "nbformat_minor": 2
}
