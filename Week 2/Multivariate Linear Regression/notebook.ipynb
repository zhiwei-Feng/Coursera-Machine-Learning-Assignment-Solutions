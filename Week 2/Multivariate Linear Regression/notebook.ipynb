{
 "cells": [
  {
   "cell_type": "markdown",
   "source": [
    "### multiple features\n",
    "hypothesis function can expr\n",
    "\n",
    "$$h(\\theta) = \\theta^TX$$\n",
    "\n",
    "1. $\\theta$ is a n+1 dim vector\n",
    "2. $X$ is a n+1 dim vector"
   ],
   "metadata": {
    "collapsed": false
   }
  },
  {
   "cell_type": "markdown",
   "source": [
    "### gradient descent for multiple variables\n",
    "repeat until convergence:$\\{$\n",
    "$$\\theta_j := \\theta_j - \\alpha\\frac{1}{m}\\sum_{i=1}^n(h_\\theta(x^{(i)})-y^{(i)}) \\cdot x_j^{(i)} \\\\ \\text{for j := 0..n} \\\\ \\} $$"
   ],
   "metadata": {
    "collapsed": false
   }
  },
  {
   "cell_type": "markdown",
   "source": [
    "### feature scaling\n",
    "$$x^i \\; := \\; \\frac{x_i-\\mu_i}{s_i} \\\\$$\n",
    "1. $\\mu_i$ is average of all the values for feature (i)\n",
    "2. $s_i$ is the range of values(max-min) or the standard deviation"
   ],
   "metadata": {
    "collapsed": false
   }
  },
  {
   "cell_type": "markdown",
   "source": [
    "\n"
   ],
   "metadata": {
    "collapsed": false
   }
  }
 ],
 "metadata": {
  "language_info": {
   "codemirror_mode": {
    "name": "ipython",
    "version": 2
   },
   "file_extension": ".py",
   "mimetype": "text/x-python",
   "name": "python",
   "nbconvert_exporter": "python",
   "pygments_lexer": "ipython2",
   "version": "2.7.6"
  },
  "kernelspec": {
   "name": "python2",
   "language": "python",
   "display_name": "Python 2"
  },
  "pycharm": {
   "stem_cell": {
    "cell_type": "raw",
    "source": [],
    "metadata": {
     "collapsed": false
    }
   }
  }
 },
 "nbformat": 4,
 "nbformat_minor": 0
}