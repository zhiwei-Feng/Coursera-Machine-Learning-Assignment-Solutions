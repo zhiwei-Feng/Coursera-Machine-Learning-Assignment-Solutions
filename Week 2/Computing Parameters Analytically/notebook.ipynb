{
 "cells": [
  {
   "cell_type": "markdown",
   "metadata": {
    "collapsed": true,
    "pycharm": {
     "name": "#%% md\n"
    }
   },
   "source": [
    "### Normal Equation\n",
    "$$ \\theta = (X^TX)^{-1}X^Ty $$\n",
    "\n",
    "- use gradient descent\n",
    "    - when n (feature number) is large(>10000)\n",
    "    - other algorithm\n",
    "- use normal equation\n",
    "    - when n is small(<=10000)\n",
    "    - and the algorithm is linear regression "
   ]
  },
  {
   "cell_type": "markdown",
   "source": [
    "### Normal Equation Noninvertibility\n",
    "if $X^TX$ is __Noninvertible__\n",
    "use _pinv()_\n"
   ],
   "metadata": {
    "collapsed": false
   }
  }
 ],
 "metadata": {
  "language_info": {
   "codemirror_mode": {
    "name": "ipython",
    "version": 2
   },
   "file_extension": ".py",
   "mimetype": "text/x-python",
   "name": "python",
   "nbconvert_exporter": "python",
   "pygments_lexer": "ipython2",
   "version": "2.7.6"
  },
  "kernelspec": {
   "name": "python3",
   "language": "python",
   "display_name": "Python 3"
  },
  "pycharm": {
   "stem_cell": {
    "cell_type": "raw",
    "source": [],
    "metadata": {
     "collapsed": false
    }
   }
  }
 },
 "nbformat": 4,
 "nbformat_minor": 0
}