{
 "cells": [
  {
   "cell_type": "markdown",
   "metadata": {
    "collapsed": true,
    "pycharm": {
     "name": "#%% md\n"
    }
   },
   "source": [
    "__Cost Function__\n",
    "\n",
    "$$J(\\Theta)=-\\frac{1}{m} \\sum_{i=1}^{m} \\sum_{k=1}^{K}\\left[y_{k}^{(i)} \\log \\left(\\left(h_{\\Theta}\\left(x^{(i)}\\right)\\right)_{k}\\right)+\\left(1-y_{k}^{(i)}\\right) \\log \\left(1-\\left(h_{\\Theta}\\left(x^{(i)}\\right)\\right)_{k}\\right)\\right]+\\frac{\\lambda}{2 m} \\sum_{l=1}^{L-1} \\sum_{j=1}^{s_l} \\sum_{j=1}^{s_l+1}\\left(\\Theta_{j, i}^{(l)}\\right)^{2}$$\n",
    "\n",
    "Note:\n",
    "\n",
    "- the double sum simply adds up the logistic regression costs calculated for each cell in the output layer\n",
    "- the triple sum simply adds up the squares of all the individual Θs in the entire network.\n",
    "- the i in the triple sum does not refer to training example i"
   ]
  },
  {
   "cell_type": "markdown",
   "source": [
    "__Back propagation Algorithm__\n",
    "\n",
    "1. set $\\Delta_{i, j}^{(l)} :=0$ for all (l,i,j), (hence you end up having a matrix full of zeros)\n",
    "2. For t in 1..m\n",
    "    1. set $a^{(1)} :=x^{(t)}$\n",
    "    2. Perform forward propagation to compute $a^{(l)}$ for l=2,3,…,L\n",
    "    ![forward propagation](3.png)\n",
    "    3. compute $\\delta^{(L)}=a^{(L)}-y^{(t)}$\n",
    "    4. compute $\\delta^{(L-1)}, \\delta^{(L-2)}, \\ldots, \\delta^{(2)}$ using $\\delta^{(l)}=\\left(\\left(\\Theta^{(l)}\\right)^{T} \\delta^{(l+1)}\\right) .* \\; g^{\\prime}\\left(z^{(l)}\\right)$\n",
    "    $g^{\\prime}\\left(z^{(l)}\\right)=a^{(l)} .* \\left(1-a^{(l)}\\right)$\n",
    "    5. $\\Delta_{i, j}^{(l)} :=\\Delta_{i, j}^{(l)}+a_{j}^{(l)} \\delta_{i}^{(l+1)}$ or with vectorization,$\\Delta^{(l)} :=\\Delta^{(l)}+\\delta^{(l+1)}\\left(a^{(l)}\\right)^{T}$\n",
    "\n",
    "3. \n",
    "    - $D_{i, j}^{(l)} :=\\frac{1}{m}\\left(\\Delta_{i, j}^{(l)}+\\lambda \\Theta_{i, j}^{(l)}\\right),$ if $j \\neq 0$\n",
    "    - $D_{i, j}^{(l)} :=\\frac{1}{m} \\Delta_{i, j}^{(l)}$ If $j=0$\n",
    " \n",
    "Thus we get $\\frac{\\partial}{\\partial \\Theta_{i j}^{(l)}} J(\\Theta)=D_{i j}^{(l)}$\n",
    " "
   ],
   "metadata": {
    "collapsed": false
   }
  },
  {
   "cell_type": "markdown",
   "source": [
    "__Backpropagation Intuition__\n",
    "\n",
    "$\\delta_{j}^{(l)}=\\frac{\\partial}{\\partial z_{j}^{(l)}} \\operatorname{cost}(t)$\n",
    "\n",
    "![intuition](4.png)\n",
    "\n"
   ],
   "metadata": {
    "collapsed": false
   }
  }
 ],
 "metadata": {
  "language_info": {
   "codemirror_mode": {
    "name": "ipython",
    "version": 2
   },
   "file_extension": ".py",
   "mimetype": "text/x-python",
   "name": "python",
   "nbconvert_exporter": "python",
   "pygments_lexer": "ipython2",
   "version": "2.7.6"
  },
  "kernelspec": {
   "name": "python3",
   "language": "python",
   "display_name": "Python 3"
  },
  "pycharm": {
   "stem_cell": {
    "cell_type": "raw",
    "source": [],
    "metadata": {
     "collapsed": false
    }
   }
  }
 },
 "nbformat": 4,
 "nbformat_minor": 0
}