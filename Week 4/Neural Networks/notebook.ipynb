{
 "cells": [
  {
   "cell_type": "markdown",
   "metadata": {
    "collapsed": true,
    "pycharm": {
     "name": "#%% md\n"
    }
   },
   "source": [
    "__Model Representation I__\n",
    "\n",
    "![Neural Network](1.png)\n"
   ]
  },
  {
   "cell_type": "markdown",
   "source": [
    "__Model Representation II__\n",
    "\n",
    "we define:\n",
    "\n",
    "\\begin{equation}\n",
    "z_{k}^{(2)}=\\Theta_{k, 0}^{(1)} x_{0}+\\Theta_{k, 1}^{(1)} x_{1}+\\cdots+\\Theta_{k, n}^{(1)} x_{n}\n",
    "\\end{equation}\n",
    "\n",
    "The vector representation of x and $z^j$ is :\n",
    "\n",
    "\\begin{equation}\n",
    "\\boldsymbol{x}=\\left[\\begin{array}{c}{x_{0}} \\\\ {x_{1}} \\\\ {\\dots} \\\\ {x_{n}}\\end{array}\\right] z^{(j)}=\\left[\\begin{array}{c}{z_{1}^{(j)}} \\\\ {z_{2}^{(j)}} \\\\ {\\cdots} \\\\ {z_{n}^{(j)}}\\end{array}\\right]\n",
    "\\end{equation}\n",
    "\n",
    "setting $x = a^{(1)}$, we can rewrite the equation as:\n",
    "\n",
    "\\begin{equation}\n",
    "z^{(j)}=\\Theta^{(j-1)} a^{(j-1)}\n",
    "\\end{equation}\n",
    "\n",
    "\\begin{equation}\n",
    "a^{(j)}=g\\left(z^{(j)}\\right)\n",
    "\\end{equation}\n",
    "\n",
    "final result :\n",
    "\n",
    "\\begin{equation}\n",
    "h_{\\Theta}(x)=a^{(j+1)}=g\\left(z^{(j+1)}\\right)\n",
    "\\end{equation}\n",
    "\n",
    "Notice that in this last step, between layer j and layer j+1, we are doing exactly the same thing as we did in logistic regression. \n"
   ],
   "metadata": {
    "collapsed": false
   }
  }
 ],
 "metadata": {
  "language_info": {
   "codemirror_mode": {
    "name": "ipython",
    "version": 2
   },
   "file_extension": ".py",
   "mimetype": "text/x-python",
   "name": "python",
   "nbconvert_exporter": "python",
   "pygments_lexer": "ipython2",
   "version": "2.7.6"
  },
  "kernelspec": {
   "name": "python3",
   "language": "python",
   "display_name": "Python 3"
  },
  "pycharm": {
   "stem_cell": {
    "cell_type": "raw",
    "source": [],
    "metadata": {
     "collapsed": false
    }
   }
  }
 },
 "nbformat": 4,
 "nbformat_minor": 0
}