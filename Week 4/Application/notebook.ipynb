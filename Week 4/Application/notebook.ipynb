{
 "cells": [
  {
   "cell_type": "markdown",
   "metadata": {
    "collapsed": true,
    "pycharm": {
     "name": "#%% md\n"
    }
   },
   "source": [
    "__neural network for implement of XNOR__\n",
    "\n",
    "![XNOR Example](2.png)\n",
    "\n",
    "note that:\n",
    "\n",
    "\\begin{equation}\n",
    "Y=A \\cdot B+\\overline{A} \\cdot \\overline{B}\n",
    "\\end{equation}"
   ]
  },
  {
   "cell_type": "markdown",
   "source": [
    "__Multiclass Classification__\n",
    "\n",
    "We can define our set of resulting classes as y:\n",
    "(if y has 4 classes)\n",
    "\n",
    "\n",
    "$$y^{(i)}=\\left[\\begin{array}{l}{1} \\\\ {0} \\\\ {0} \\\\ {0}\\end{array}\\right],\\left[\\begin{array}{l}{0} \\\\ {1} \\\\ {0} \\\\ {0}\\end{array}\\right],\\left[\\begin{array}{l}{0} \\\\ {0} \\\\ {1} \\\\ {0}\\end{array}\\right],\\left[\\begin{array}{l}{0} \\\\ {0} \\\\ {0} \\\\ {1}\\end{array}\\right]$$\n",
    "\n",
    "Our resulting hypothesis for one set of inputs may look like:\n",
    "\n",
    "$$h_{\\Theta}(x)=\\left[\\begin{array}{l}{0} \\\\ {0} \\\\ {1} \\\\ {0}\\end{array}\\right]$$\n"
   ],
   "metadata": {
    "collapsed": false
   }
  }
 ],
 "metadata": {
  "language_info": {
   "codemirror_mode": {
    "name": "ipython",
    "version": 2
   },
   "file_extension": ".py",
   "mimetype": "text/x-python",
   "name": "python",
   "nbconvert_exporter": "python",
   "pygments_lexer": "ipython2",
   "version": "2.7.6"
  },
  "kernelspec": {
   "name": "python3",
   "language": "python",
   "display_name": "Python 3"
  },
  "pycharm": {
   "stem_cell": {
    "cell_type": "raw",
    "source": [],
    "metadata": {
     "collapsed": false
    }
   }
  }
 },
 "nbformat": 4,
 "nbformat_minor": 0
}