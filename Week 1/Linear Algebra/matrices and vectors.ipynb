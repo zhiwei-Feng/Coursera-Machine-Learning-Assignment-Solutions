{
  "cells": [
    {
      "cell_type": "code",
      "execution_count": 6,
      "metadata": {
        "collapsed": true,
        "pycharm": {
          "is_executing": false
        }
      },
      "outputs": [
        {
          "name": "stdout",
          "text": [
            "[[1 2 3]\n [4 5 6]]\n"
          ],
          "output_type": "stream"
        }
      ],
      "source": "import numpy as np\n\n# matrix\nA \u003d np.array([(1,2,3),(4,5,6)])\nprint(A)"
    },
    {
      "cell_type": "code",
      "execution_count": 7,
      "outputs": [
        {
          "name": "stdout",
          "text": [
            "[7 8 9]\n"
          ],
          "output_type": "stream"
        }
      ],
      "source": "# vector(a special example of matrix)\nv \u003d np.array([7,8,9])\nprint(v)",
      "metadata": {
        "pycharm": {
          "metadata": false,
          "name": "#%%\n",
          "is_executing": false
        }
      }
    },
    {
      "cell_type": "code",
      "execution_count": 8,
      "outputs": [
        {
          "name": "stdout",
          "text": [
            "2 x 3\n"
          ],
          "output_type": "stream"
        }
      ],
      "source": "# shape of matrix\nm,n \u003d A.shape\nprint(m,\u0027x\u0027,n)",
      "metadata": {
        "pycharm": {
          "metadata": false,
          "name": "#%%\n",
          "is_executing": false
        }
      }
    },
    {
      "cell_type": "code",
      "execution_count": 10,
      "outputs": [
        {
          "name": "stdout",
          "text": [
            "6\n"
          ],
          "output_type": "stream"
        }
      ],
      "source": "# index row 2 column 3 element of A\n# 0-based\nA_23 \u003d A[1,2] \nprint(A_23)",
      "metadata": {
        "pycharm": {
          "metadata": false,
          "name": "#%%\n",
          "is_executing": false
        }
      }
    }
  ],
  "metadata": {
    "language_info": {
      "codemirror_mode": {
        "name": "ipython",
        "version": 2
      },
      "file_extension": ".py",
      "mimetype": "text/x-python",
      "name": "python",
      "nbconvert_exporter": "python",
      "pygments_lexer": "ipython2",
      "version": "2.7.6"
    },
    "kernelspec": {
      "name": "python3",
      "language": "python",
      "display_name": "Python 3"
    }
  },
  "nbformat": 4,
  "nbformat_minor": 0
}