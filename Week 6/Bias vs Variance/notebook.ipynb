{
 "cells": [
  {
   "cell_type": "markdown",
   "metadata": {
    "collapsed": true,
    "pycharm": {
     "name": "#%% md\n"
    }
   },
   "source": [
    "### Diagnosing Bias vs. Variance\n",
    "\n",
    "__High bias(underfitting)__: both $J_{train}(\\Theta)$ and $J_{CV}(\\Theta)$ will be high. Also, $J_{CV}(\\Theta) \\approx J_{train}(\\Theta)$\n",
    "\n",
    "__High variance(overfitting)__: $J_{train}(\\Theta)$ will be low and J_{CV}(\\Theta) will be much greater than the $J_{train}(\\Theta)$\n",
    "\n",
    "The is summarized in the figure below:\n",
    "![summarize](1.png) \n",
    "\n"
   ]
  },
  {
   "cell_type": "markdown",
   "source": [
    "### Regularization and Bias/Variance\n",
    "\n",
    "In order to choose the model and the regularization term $\\lambda$. we need to:\n",
    "\n",
    "1. Create a list of lambdas (i.e. λ∈{0,0.01,0.02,0.04,0.08,0.16,0.32,0.64,1.28,2.56,5.12,10.24});\n",
    "2. Create a set of models with different degrees or any other variants.\n",
    "3. Iterate through the \\lambdaλs and for each λ go through all the models to learn some $\\Theta$\n",
    "4. Compute the cross validation error using the learned Θ (computed with λ) on the $J_{CV}(\\Theta)$ __without__ regularization or λ=0\n",
    "5. Select the best combo that produces the lowest error on the cross validation set.\n",
    "6. Using the best combo Θ and λ, apply it on $J_{test}(\\Theta)$ to see if it has a good generalization of the problem."
   ],
   "metadata": {
    "collapsed": false
   }
  },
  {
   "cell_type": "markdown",
   "source": [
    "### Learning Curves\n",
    "\n",
    "__Experiencing high bias:__\n",
    "![high bias](2.png)\n",
    "\n",
    "If a learning algorithm is suffering from high bias, getting more training data will not (by itself) help much.\n",
    "\n",
    "__Experiencing high variance:__\n",
    "![high variance](3.png)\n",
    "\n",
    "If a learning algorithm is suffering from high variance, getting more training data is likely to help.\n"
   ],
   "metadata": {
    "collapsed": false
   }
  }
 ],
 "metadata": {
  "language_info": {
   "codemirror_mode": {
    "name": "ipython",
    "version": 2
   },
   "file_extension": ".py",
   "mimetype": "text/x-python",
   "name": "python",
   "nbconvert_exporter": "python",
   "pygments_lexer": "ipython2",
   "version": "2.7.6"
  },
  "kernelspec": {
   "name": "python3",
   "language": "python",
   "display_name": "Python 3"
  },
  "pycharm": {
   "stem_cell": {
    "cell_type": "raw",
    "source": [],
    "metadata": {
     "collapsed": false
    }
   }
  }
 },
 "nbformat": 4,
 "nbformat_minor": 0
}