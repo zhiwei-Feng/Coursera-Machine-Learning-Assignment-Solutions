{
 "cells": [
  {
   "cell_type": "markdown",
   "metadata": {
    "collapsed": true,
    "pycharm": {
     "name": "#%% md\n"
    }
   },
   "source": [
    "\n",
    "Once we have done some trouble shooting for errors in our predictions by:\n",
    "\n",
    "- Getting more training examples\n",
    "- Trying smaller sets of features\n",
    "- Trying additional features\n",
    "- Trying polynomial features\n",
    "- Increasing or decreasing λ\n",
    "\n",
    "\n",
    "__Evaluating a Hypothesis__\n",
    "\n",
    "split up the data set into two sets: _training set_ and _test set_\n",
    "\n",
    "The procedure using these two sets is then:\n",
    "1. Learn $\\Theta$ and minimize $J_{train}(\\Theta)$ using the training set\n",
    "2. Compute the test error $J_{test}(\\Theta)$\n",
    "\n",
    "_The Test set Error_\n",
    "\n",
    "1. For linear regression \n",
    "\n",
    "$J_{t e s t}(\\Theta)=\\frac{1}{2 m_{t e s t}} \\sum_{i=1}^{m_{t e s t}}\\left(h_{\\Theta}\\left(x_{t e s t}^{(i)}\\right)-y_{t e s t}^{(i)}\\right)^{2}$\n",
    "\n",
    "2. For classification ~ Misclassification error (aka 0/1 misclassification error):\n",
    "\n",
    "$\\operatorname{err}\\left(h_{\\Theta}(x), y\\right)=\\begin{array}{l}{1 \\quad \\text { if } h_{\\Theta}(x) \\geq 0.5 \\text { and } y=0 \\text { or } h_{\\Theta}(x)<0.5 \\text { and } y=1} \\\\ {0 \\qquad \\text { otherwise }}\\end{array}$\n",
    "\n",
    "_Test Error_ $=\\frac{1}{m_{\\text { test }}} \\sum_{i=1}^{m_{\\text { test }}} \\operatorname{err}\\left(h_{\\Theta}\\left(x_{\\text {test}}^{(i)}\\right), y_{\\text {test}}^{(i)}\\right)$"
   ]
  },
  {
   "cell_type": "markdown",
   "source": [
    "__Model Selection and Train/Validation/Test Sets__\n",
    "\n",
    "One way to break down our dataset into the three sets is:\n",
    "\n",
    "- Training set: 60%\n",
    "- Cross validation set: 20%\n",
    "- Test set: 20%\n",
    "\n",
    "steps:\n",
    "\n",
    "1. Optimize the parameters in Θ using the training set for each polynomial degree.\n",
    "2. Find the polynomial degree d with the least error using the cross validation set.\n",
    "3. Estimate the generalization error using the test set with $J_{t e s t}\\left(\\Theta^{(d)}\\right)$ , (d = theta from polynomial with lower error);\n",
    "\n"
   ],
   "metadata": {
    "collapsed": false
   }
  }
 ],
 "metadata": {
  "language_info": {
   "codemirror_mode": {
    "name": "ipython",
    "version": 2
   },
   "file_extension": ".py",
   "mimetype": "text/x-python",
   "name": "python",
   "nbconvert_exporter": "python",
   "pygments_lexer": "ipython2",
   "version": "2.7.6"
  },
  "kernelspec": {
   "name": "python3",
   "language": "python",
   "display_name": "Python 3"
  },
  "pycharm": {
   "stem_cell": {
    "cell_type": "raw",
    "source": [],
    "metadata": {
     "collapsed": false
    }
   }
  }
 },
 "nbformat": 4,
 "nbformat_minor": 0
}