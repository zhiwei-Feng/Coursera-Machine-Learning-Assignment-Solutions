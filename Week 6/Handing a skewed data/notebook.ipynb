{
 "cells": [
  {
   "cell_type": "markdown",
   "metadata": {
    "collapsed": true,
    "pycharm": {
     "name": "#%% md\n"
    }
   },
   "source": [
    "### Error Metrics for Skewed Classes\n",
    "- Precision\n",
    "- Recall\n",
    "\n",
    "\\begin{equation}\n",
    "\\begin{array}{l}{\\text { Precision }=\\frac{\\text { True positives }}{\\# \\text { predicted as positive }}=\\frac{\\text { True positives }}{\\text { True positives }+\\text { False positives }}} \\\\ {\\text { Recall }=\\frac{\\text { True positives }}{\\# \\text { actual positives }}=\\frac{\\text { True positives }}{\\text { True positives }+\\text { False negatives }}}\\end{array}\n",
    "\\end{equation}\n",
    "\n",
    "> we always set y=1 in presence of rare class that we wanna detect"
   ]
  },
  {
   "cell_type": "markdown",
   "source": [
    "\n"
   ],
   "metadata": {
    "collapsed": false
   }
  }
 ],
 "metadata": {
  "language_info": {
   "codemirror_mode": {
    "name": "ipython",
    "version": 2
   },
   "file_extension": ".py",
   "mimetype": "text/x-python",
   "name": "python",
   "nbconvert_exporter": "python",
   "pygments_lexer": "ipython2",
   "version": "2.7.6"
  },
  "kernelspec": {
   "name": "python3",
   "language": "python",
   "display_name": "Python 3"
  },
  "pycharm": {
   "stem_cell": {
    "cell_type": "raw",
    "source": [],
    "metadata": {
     "collapsed": false
    }
   }
  }
 },
 "nbformat": 4,
 "nbformat_minor": 0
}