{
 "cells": [
  {
   "cell_type": "markdown",
   "metadata": {
    "pycharm": {
     "name": "#%% md\n"
    }
   },
   "source": [
    "### Prioritizing What to Work On\n",
    "\n",
    "to improve the accuracy of this classifier:\n",
    "\n",
    "- Collect lots of data (for example \"honeypot\" project but doesn't always work)\n",
    "- Develop sophisticated features (for example: using email header data in spam emails)\n",
    "- Develop algorithms to process your input in different ways (recognizing misspellings in spam).\n",
    "\n",
    "> It is difficult to tell which of the options will be most helpful."
   ]
  },
  {
   "cell_type": "markdown",
   "metadata": {},
   "source": [
    "### Error Analysis\n",
    "\n",
    "The recommended approach to solving machine learning problems is to:\n",
    "\n",
    "- Start with a simple algorithm, implement it quickly, and test it early on your cross validation data.\n",
    "- Plot learning curves to decide if more data, more features, etc. are likely to help.\n",
    "- Manually examine the errors on examples in the cross validation set and try to spot a trend where most of the errors were made.\n",
    "\n",
    "> It is very important to get error results as a single, numerical value. \n"
   ]
  },
  {
   "cell_type": "markdown",
   "metadata": {},
   "source": [
    "\n"
   ]
  }
 ],
 "metadata": {
  "kernelspec": {
   "display_name": "Python 3",
   "language": "python",
   "name": "python3"
  },
  "language_info": {
   "codemirror_mode": {
    "name": "ipython",
    "version": 3
   },
   "file_extension": ".py",
   "mimetype": "text/x-python",
   "name": "python",
   "nbconvert_exporter": "python",
   "pygments_lexer": "ipython3",
   "version": "3.7.3"
  },
  "pycharm": {
   "stem_cell": {
    "cell_type": "raw",
    "metadata": {
     "collapsed": false
    },
    "source": []
   }
  }
 },
 "nbformat": 4,
 "nbformat_minor": 2
}
