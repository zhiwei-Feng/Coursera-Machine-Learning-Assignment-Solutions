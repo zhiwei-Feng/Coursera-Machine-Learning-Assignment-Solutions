{
 "cells": [
  {
   "cell_type": "markdown",
   "metadata": {
    "collapsed": true,
    "pycharm": {
     "name": "#%% md\n"
    }
   },
   "source": [
    "The hypothesis function of Logistic Regression\n",
    "\\begin{array}{l}{h_{\\theta}(x)=g\\left(\\theta^{T} x\\right)} \\\\ {z=\\theta^{T} x} \\\\ {g(z)=\\frac{1}{1+e^{-z}}}\\end{array}\n"
   ]
  },
  {
   "cell_type": "markdown",
   "source": [
    "$h_\\theta(x)$ will give us the probability that our output is 1.\n",
    "\n",
    "For example , $h_\\theta(x)$=0.7\n",
    "gives us a probability of 70% that our output is 1\n"
   ],
   "metadata": {
    "collapsed": false
   }
  },
  {
   "cell_type": "markdown",
   "source": [
    "__Decision Boundary__\n",
    "\n",
    "we can translate the output of the hypothesis function as follows\n",
    "\n",
    "\\begin{array}{l}{h_{\\theta}(x) \\geq 0.5 \\rightarrow y=1} \\\\ {h_{\\theta}(x)<0.5 \\rightarrow y=0}\\end{array}\n",
    "\n",
    "also mean that:\n",
    "\n",
    "\\begin{array}{l}{g(z) \\geq 0.5} \\\\ {\\text {when } z \\geq 0}\\end{array}\n",
    "\n",
    "So if our input to g is $\\theta^TX$, then that means:\n",
    "\n",
    "\\begin{array}{l}{\\theta^{T} x \\geq 0 \\Rightarrow y=1} \\\\ {\\theta^{T} x<0 \\Rightarrow y=0}\\end{array}\n",
    "\n",
    "\n"
   ],
   "metadata": {
    "collapsed": false,
    "pycharm": {
     "name": "#%% md\n"
    }
   }
  }
 ],
 "metadata": {
  "language_info": {
   "codemirror_mode": {
    "name": "ipython",
    "version": 2
   },
   "file_extension": ".py",
   "mimetype": "text/x-python",
   "name": "python",
   "nbconvert_exporter": "python",
   "pygments_lexer": "ipython2",
   "version": "2.7.6"
  },
  "kernelspec": {
   "name": "python3",
   "language": "python",
   "display_name": "Python 3"
  },
  "pycharm": {
   "stem_cell": {
    "cell_type": "raw",
    "source": [],
    "metadata": {
     "collapsed": false
    }
   }
  }
 },
 "nbformat": 4,
 "nbformat_minor": 0
}