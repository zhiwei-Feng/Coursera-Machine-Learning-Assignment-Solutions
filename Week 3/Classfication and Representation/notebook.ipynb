{
 "cells": [
  {
   "cell_type": "markdown",
   "metadata": {
    "collapsed": true,
    "pycharm": {
     "name": "#%% md\n"
    }
   },
   "source": [
    "The hypothesis function of Logistic Regression\n",
    "\\begin{array}{l}{h_{\\theta}(x)=g\\left(\\theta^{T} x\\right)} \\\\ {z=\\theta^{T} x} \\\\ {g(z)=\\frac{1}{1+e^{-z}}}\\end{array}\n"
   ]
  },
  {
   "cell_type": "markdown",
   "source": [
    "$h_\\theta(x)$ will give us the probability that our output is 1.\n",
    "\n",
    "For example , $h_\\theta(x)$=0.7\n",
    "gives us a probability of 70% that our output is 1\n"
   ],
   "metadata": {
    "collapsed": false
   }
  }
 ],
 "metadata": {
  "language_info": {
   "codemirror_mode": {
    "name": "ipython",
    "version": 2
   },
   "file_extension": ".py",
   "mimetype": "text/x-python",
   "name": "python",
   "nbconvert_exporter": "python",
   "pygments_lexer": "ipython2",
   "version": "2.7.6"
  },
  "kernelspec": {
   "name": "python3",
   "language": "python",
   "display_name": "Python 3"
  },
  "pycharm": {
   "stem_cell": {
    "cell_type": "raw",
    "source": [],
    "metadata": {
     "collapsed": false
    }
   }
  }
 },
 "nbformat": 4,
 "nbformat_minor": 0
}