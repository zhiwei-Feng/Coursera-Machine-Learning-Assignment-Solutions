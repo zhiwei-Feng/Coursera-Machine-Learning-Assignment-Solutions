{
 "cells": [
  {
   "cell_type": "markdown",
   "metadata": {
    "collapsed": true,
    "pycharm": {
     "name": "#%% md\n"
    }
   },
   "source": [
    "__multiclass classfication__\n",
    "\n",
    "one vs all(one vs rest)\n",
    "\n",
    "\\begin{equation}\n",
    "\\begin{array}{l}{y \\in\\{0,1 \\ldots n\\}} \\\\ {h_{\\theta}^{(0)}(x)=P(y=0 | x ; \\theta)} \\\\ {h_{\\theta}^{(1)}(x)=P(y=1 | x ; \\theta)} \\\\ {\\stackrel{\\cdots}{h_{\\theta}^{(n)}}(x)=P(y=n | x ; \\theta)} \\\\ {\\text { prediction }=\\max _{i}\\left(h_{\\theta}^{(i)}(x)\\right)}\\end{array}\n",
    "\\end{equation}\n"
   ]
  }
 ],
 "metadata": {
  "language_info": {
   "codemirror_mode": {
    "name": "ipython",
    "version": 2
   },
   "file_extension": ".py",
   "mimetype": "text/x-python",
   "name": "python",
   "nbconvert_exporter": "python",
   "pygments_lexer": "ipython2",
   "version": "2.7.6"
  },
  "kernelspec": {
   "name": "python3",
   "language": "python",
   "display_name": "Python 3"
  },
  "pycharm": {
   "stem_cell": {
    "cell_type": "raw",
    "source": [],
    "metadata": {
     "collapsed": false
    }
   }
  }
 },
 "nbformat": 4,
 "nbformat_minor": 0
}